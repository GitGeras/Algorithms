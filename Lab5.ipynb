{
 "cells": [
  {
   "cell_type": "markdown",
   "metadata": {
    "cell_type": "markdown",
    "metadata": {},
    "source": [
     "### Машинное обучение: метод опорных векторов (Support Vector Machine, SVM)"
    ]
   },
   "source": [
    "Лабораторная работа №5:\n",
    "====================\n",
    "Метрики качества классификации\n",
    "====================\n",
    "\n",
    "Данные\n",
    "---------------------\n",
    "В качестве данных был выбран датасет Ирис (доступен по ссылке http://archive.ics.uci.edu/ml/datasets/Iris).\n",
    "\n",
    "Предметная область - ботаника, количество записей - 150.\n",
    "\n",
    "Входные параметры:\n",
    "\n",
    "    1. sepal length in cm\n",
    "    2. sepal width in cm \n",
    "    3. petal length in cm\n",
    "    4. petal width in cm\n",
    "\n",
    "Выходной параметр - class:\n",
    "    \n",
    "    - Iris Versicolour (1)\n",
    "    - Iris Setosa (2)\n",
    "    - Iris Virginica (3)"
   ]
  },
  {
   "cell_type": "markdown",
   "metadata": {},
   "source": [
    "Точность классификации (Classification Accuracy)\n",
    "----"
   ]
  },
  {
   "cell_type": "code",
   "execution_count": 12,
   "metadata": {
    "collapsed": false
   },
   "outputs": [],
   "source": [
    "import numpy as np\n",
    "import matplotlib.pyplot as plt\n",
    "from sklearn import svm, datasets\n",
    "from sklearn import cross_validation, metrics\n",
    "from sklearn.linear_model import LogisticRegression\n",
    "# импортируем набор данных (iris)\n",
    "iris = datasets.load_iris()\n",
    "X = iris.data[:, :4]\n",
    "y = iris.target"
   ]
  },
  {
   "cell_type": "code",
   "execution_count": 13,
   "metadata": {
    "collapsed": false
   },
   "outputs": [
    {
     "name": "stdout",
     "output_type": "stream",
     "text": [
      "Accuracy for LogisticRegression: 0.880 (0.148)\n",
      "Accuracy for SVC: 0.947 (0.058)\n"
     ]
    }
   ],
   "source": [
    "num_folds = 10\n",
    "num_instances = len(X)\n",
    "seed = 7\n",
    "kfold = cross_validation.KFold(n=num_instances, n_folds=num_folds, random_state=seed)\n",
    "logReg = LogisticRegression()\n",
    "svc = svm.SVC(kernel='rbf', gamma=0.7, C=1.0).fit(X, y)\n",
    "scoring = 'accuracy'\n",
    "logRegAccuracy = cross_validation.cross_val_score(logReg, X, y, cv=kfold, scoring=scoring)\n",
    "svcAccuracy = cross_validation.cross_val_score(svc, X, y, cv=kfold, scoring=scoring)\n",
    "print(\"Accuracy for LogisticRegression: %.3f (%.3f)\" % (logRegAccuracy.mean(), logRegAccuracy.std()))\n",
    "print(\"Accuracy for SVC: %.3f (%.3f)\" % (svcAccuracy.mean(), svcAccuracy.std()))"
   ]
  },
  {
   "cell_type": "markdown",
   "metadata": {},
   "source": [
    "Логарифм функции правдоподобия (Logarithmic Loss)\n",
    "---"
   ]
  },
  {
   "cell_type": "code",
   "execution_count": 40,
   "metadata": {
    "collapsed": false
   },
   "outputs": [
    {
     "name": "stdout",
     "output_type": "stream",
     "text": [
      "Logloss: -0.410 (0.160)\n",
      "Logloss: -0.337 (0.124)\n"
     ]
    }
   ],
   "source": [
    "from sklearn.cross_validation import train_test_split\n",
    "from sklearn.multiclass import OneVsRestClassifier\n",
    "from sklearn.preprocessing import label_binarize\n",
    "X = iris.data[:, :4]\n",
    "y = iris.target\n",
    "test_size = 0.33\n",
    "#Переведем вывод в двоичную систему\n",
    "y = label_binarize(y, classes=[0, 1, 2])\n",
    "n_classes = y.shape[1]\n",
    "\n",
    "X_train, X_test, y_train, y_test = train_test_split(X, y, test_size=test_size, random_state=0)\n",
    "svc_classifier = OneVsRestClassifier(svm.SVC(kernel='linear', probability=True, random_state=random_state))\n",
    "svc = svc_classifier.fit(X_train, y_train)\n",
    "lr_classifier = OneVsRestClassifier(LogisticRegression())\n",
    "lr = lr_classifier.fit(X_train, y_train)\n",
    "scoring = 'log_loss'\n",
    "lr_logLoss = cross_validation.cross_val_score(lr, X, y, cv=kfold, scoring=scoring)\n",
    "svc_logLoss = cross_validation.cross_val_score(svc, X, y, cv=kfold, scoring=scoring)\n",
    "print(\"Logloss: %.3f (%.3f)\" % (lr_logLoss.mean(), lr_logLoss.std()))\n",
    "print(\"Logloss: %.3f (%.3f)\" % (svc_logLoss.mean(), svc_logLoss.std()))\n"
   ]
  },
  {
   "cell_type": "markdown",
   "metadata": {},
   "source": [
    "Область под кривой ошибок (Area Under ROC Curve)\n",
    "-------------\n"
   ]
  },
  {
   "cell_type": "code",
   "execution_count": 81,
   "metadata": {
    "collapsed": false
   },
   "outputs": [
    {
     "name": "stdout",
     "output_type": "stream",
     "text": [
      "auc: 1.000 (0.000)\n",
      "auc: 1.000 (0.000)\n"
     ]
    }
   ],
   "source": [
    "from sklearn.metrics import roc_auc_score \n",
    "X = iris.data[:, :4]\n",
    "y = iris.target\n",
    "#Возьмём только два класса\n",
    "X = X[:100]\n",
    "y = y[:100]\n",
    "test_size = 0.33\n",
    "shuffle = cross_validation.KFold(len(X), n_folds=3, shuffle=True)\n",
    "     \n",
    "X_train, X_test, y_train, y_test = train_test_split(X, y, test_size=test_size, random_state=0)\n",
    "svc_classifier = OneVsRestClassifier(svm.SVC(kernel='linear', probability=True, random_state=random_state))\n",
    "svc = svc_classifier.fit(X_train, y_train)\n",
    "lr_classifier = OneVsRestClassifier(LogisticRegression())\n",
    "lr = lr_classifier.fit(X_train, y_train)\n",
    "scoring = 'roc_auc'\n",
    "lr_auc = cross_validation.cross_val_score(lr, X, y, cv=shuffle, scoring=scoring)\n",
    "svc_auc = cross_validation.cross_val_score(lr, X, y, cv=shuffle, scoring=scoring)\n",
    "print(\"auc: %.3f (%.3f)\" % (lr_auc.mean(), lr_auc.std()))\n",
    "print(\"auc: %.3f (%.3f)\" % (svc_auc.mean(), svc_auc.std()))\n"
   ]
  },
  {
   "cell_type": "markdown",
   "metadata": {},
   "source": [
    "Матрица неточностей (Confusion Matrix)\n",
    "---"
   ]
  },
  {
   "cell_type": "code",
   "execution_count": 34,
   "metadata": {
    "collapsed": false
   },
   "outputs": [
    {
     "name": "stdout",
     "output_type": "stream",
     "text": [
      "SVC:\n",
      " [[16  0  0]\n",
      " [ 0 18  1]\n",
      " [ 0  0 15]]\n",
      "Logistic Regression:\n",
      " [[16  0  0]\n",
      " [ 0 14  5]\n",
      " [ 0  0 15]]\n"
     ]
    }
   ],
   "source": [
    "from sklearn.metrics import confusion_matrix\n",
    "X = iris.data[:, :4]\n",
    "y = iris.target\n",
    "test_size = 0.33\n",
    "\n",
    "X_train, X_test, y_train, y_test = train_test_split(X, y, test_size=test_size, random_state=0)\n",
    "svc_classifier = (svm.SVC(kernel='linear', probability=True, random_state=random_state))\n",
    "svc = svc_classifier.fit(X_train, y_train)\n",
    "svc_pred = svc.predict(X_test)\n",
    "svc_matrix = confusion_matrix(y_test, svc_pred)\n",
    "lr_classifier = OneVsRestClassifier(LogisticRegression())\n",
    "lr = lr_classifier.fit(X_train, y_train)\n",
    "lr_pred = lr.predict(X_test)\n",
    "lr_matrix = confusion_matrix(y_test, lr_pred)\n",
    "print(\"SVC:\\n\", svc_matrix)\n",
    "print(\"Logistic Regression:\\n\", lr_matrix)"
   ]
  },
  {
   "cell_type": "markdown",
   "metadata": {},
   "source": [
    "Отчет классификации (Classification Report)\n",
    "---"
   ]
  },
  {
   "cell_type": "code",
   "execution_count": 33,
   "metadata": {
    "collapsed": false
   },
   "outputs": [
    {
     "name": "stdout",
     "output_type": "stream",
     "text": [
      "SVC:\n",
      "              precision    recall  f1-score   support\n",
      "\n",
      "          0       1.00      1.00      1.00        16\n",
      "          1       1.00      0.95      0.97        19\n",
      "          2       0.94      1.00      0.97        15\n",
      "\n",
      "avg / total       0.98      0.98      0.98        50\n",
      "\n",
      "Logistic Regression:\n",
      "              precision    recall  f1-score   support\n",
      "\n",
      "          0       1.00      1.00      1.00        16\n",
      "          1       1.00      0.74      0.85        19\n",
      "          2       0.75      1.00      0.86        15\n",
      "\n",
      "avg / total       0.93      0.90      0.90        50\n",
      "\n"
     ]
    }
   ],
   "source": [
    "from sklearn.metrics import classification_report\n",
    "X = iris.data[:, :4]\n",
    "y = iris.target\n",
    "test_size = 0.33\n",
    "\n",
    "X_train, X_test, y_train, y_test = train_test_split(X, y, test_size=test_size, random_state=0)\n",
    "svc_classifier = (svm.SVC(kernel='linear', probability=True, random_state=random_state))\n",
    "svc = svc_classifier.fit(X_train, y_train)\n",
    "svc_pred = svc.predict(X_test)\n",
    "svc_report = classification_report(y_test, svc_pred)\n",
    "lr_classifier = OneVsRestClassifier(LogisticRegression())\n",
    "lr = lr_classifier.fit(X_train, y_train)\n",
    "lr_pred = lr.predict(X_test)\n",
    "lr_report = classification_report(y_test, lr_pred)\n",
    "print(\"SVC:\\n\", svc_report)\n",
    "print(\"Logistic Regression:\\n\", lr_report)\n"
   ]
  },
  {
   "cell_type": "markdown",
   "metadata": {},
   "source": [
    "Вывод:\n",
    "-------------\n",
    "    "
   ]
  },
  {
   "cell_type": "markdown",
   "metadata": {},
   "source": [
    "Выполнили:\n",
    "---\n",
    "    Студенты группы P4117\n",
    "    Герасин Олег\n",
    "    Крихели Артём"
   ]
  }
 ],
 "metadata": {
  "anaconda-cloud": {},
  "kernelspec": {
   "display_name": "Python [default]",
   "language": "python",
   "name": "python3"
  },
  "language_info": {
   "codemirror_mode": {
    "name": "ipython",
    "version": 3
   },
   "file_extension": ".py",
   "mimetype": "text/x-python",
   "name": "python",
   "nbconvert_exporter": "python",
   "pygments_lexer": "ipython3",
   "version": "3.5.2"
  }
 },
 "nbformat": 4,
 "nbformat_minor": 1
}
